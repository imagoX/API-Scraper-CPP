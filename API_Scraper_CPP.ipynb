{
  "cells": [
    {
      "cell_type": "markdown",
      "metadata": {
        "id": "view-in-github",
        "colab_type": "text"
      },
      "source": [
        "<a href=\"https://colab.research.google.com/github/imagoX/API-Scraper-CPP/blob/main/API_Scraper_CPP.ipynb\" target=\"_parent\"><img src=\"https://colab.research.google.com/assets/colab-badge.svg\" alt=\"Open In Colab\"/></a>"
      ]
    },
    {
      "cell_type": "code",
      "execution_count": null,
      "metadata": {
        "id": "R5C5iCdPMDwO"
      },
      "outputs": [],
      "source": [
        "!git clone https://github.com/imagoX/API-Scraper-CPP"
      ]
    },
    {
      "cell_type": "code",
      "execution_count": null,
      "metadata": {
        "id": "ry5tu3nADW4Z"
      },
      "outputs": [],
      "source": [
        "cd API-Scraper-CPP"
      ]
    },
    {
      "cell_type": "code",
      "execution_count": null,
      "metadata": {
        "id": "B6WMkXTZL9gW"
      },
      "outputs": [],
      "source": [
        "!g++ fetcher.cpp -o fetcher -lcurl"
      ]
    },
    {
      "cell_type": "code",
      "execution_count": null,
      "metadata": {
        "id": "eaficMLdwaqq"
      },
      "outputs": [],
      "source": [
        "!-c ./fetcher"
      ]
    }
  ],
  "metadata": {
    "colab": {
      "provenance": [],
      "authorship_tag": "ABX9TyOFUWXfhSFq1xOw6VxqtZoO",
      "include_colab_link": true
    },
    "kernelspec": {
      "display_name": "Python 3",
      "name": "python3"
    },
    "language_info": {
      "name": "python"
    }
  },
  "nbformat": 4,
  "nbformat_minor": 0
}